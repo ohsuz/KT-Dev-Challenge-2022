{
 "cells": [
  {
   "cell_type": "code",
   "execution_count": 1,
   "metadata": {
    "id": "9I10vDj5ykoK"
   },
   "outputs": [],
   "source": [
    "import warnings\n",
    "warnings.filterwarnings('ignore')"
   ]
  },
  {
   "cell_type": "code",
   "execution_count": 2,
   "metadata": {
    "id": "kSsgcbaD76yz"
   },
   "outputs": [],
   "source": [
    "import pandas as pd\n",
    "import re"
   ]
  },
  {
   "cell_type": "code",
   "execution_count": 3,
   "metadata": {
    "id": "0RXPHHqRY5-2"
   },
   "outputs": [],
   "source": [
    "class Evaluator:\n",
    "    def __init__(self, predictions_df):\n",
    "        self.actual = list(predictions_df[\"Actual Text\"])\n",
    "        self.generated = list(predictions_df[\"Generated Text\"].apply(lambda x : x[12:]))\n",
    "\n",
    "    def _split_string_to_tokens(self, text):\n",
    "        tokens_split_by_space = text.split()\n",
    "        tokens_list = []\n",
    "        for idx, token in enumerate(tokens_split_by_space):\n",
    "            multi_token = token.replace('이고,',' ').replace('이다.',' ').replace('고,',' ').replace('다.',' ').split()\n",
    "            for t in multi_token:\n",
    "                #예외 처리 : extra id tag를 가진 경우\n",
    "                if ('<extra_id' in t) :\n",
    "                    id_idx = token.rfind('>')\n",
    "                    t_except_id = token[id_idx+1:]\n",
    "                    if len(t_except_id) > 0 :\n",
    "                        tokens_list.append(t_except_id)\n",
    "\n",
    "                #split후 비어있는 string인 경우\n",
    "                elif (len(t)>0):\n",
    "                    tokens_list.append(t)  \n",
    "            \n",
    "        return tokens_list\n",
    "\n",
    "    \n",
    "    def _make_entities_and_tags_list(self, text):\n",
    "        kor_to_eng = {'사람' : 'PS', '위치' : 'LC', '기관' : 'OG', '날짜' : 'DT' ,'시간' : 'TI', '수량' : 'QT'}\n",
    "        entities, tags = [], []\n",
    "        tokens_list = self._split_string_to_tokens(text)\n",
    "        entity = ''\n",
    "        for idx, token in enumerate(tokens_list):\n",
    "            #tag\n",
    "            if (token in kor_to_eng.keys()):\n",
    "                tags.append(kor_to_eng[token[:2]])\n",
    "                entities.append(entity[:-2])\n",
    "                entity = ''\n",
    "            else:\n",
    "                entity += token + ' '\n",
    "        return entities, tags\n",
    "\n",
    "    def _make_a_answer_dataframe(self,text_list):\n",
    "        entities_ , tags_ = [], []\n",
    "        for text in text_list:\n",
    "            entities, tags = self._make_entities_and_tags_list(text)\n",
    "            entities_.append(entities)\n",
    "            tags_.append(tags)\n",
    "\n",
    "        df = pd.DataFrame({'entity': entities_, 'tag' : tags_})\n",
    "        return df\n",
    "\n",
    "    def _check_correct_answer(self,true_entity, true_tag, pred_entities, pred_tags):\n",
    "        check,result_entity,result_tag = False,'',''\n",
    "        for idx, pred_entity in enumerate(pred_entities):\n",
    "            if (true_entity == pred_entity) and (pred_tags[idx] == true_tag):\n",
    "                return True, pred_entity, pred_tags[idx]\n",
    "            elif (true_entity in pred_entity) and (pred_tags[idx] == true_tag):\n",
    "                return True, pred_entity, pred_tags[idx]\n",
    "            elif (pred_entity in true_entity) and (pred_tags[idx] == true_tag):\n",
    "                return True, pred_entity, pred_tags[idx]\n",
    "        return check, result_entity, result_tag\n",
    "\n",
    "    def evaluate(self):\n",
    "        y_pred = self._make_a_answer_dataframe(self.generated)\n",
    "        y_true = self._make_a_answer_dataframe(self.actual)\n",
    "\n",
    "        TP,true_total,pred_total = 0,0,0\n",
    "\n",
    "        for idx, pred in y_pred.iterrows(): \n",
    "            pred_entities, pred_tags = pred[\"entity\"], pred[\"tag\"]\n",
    "            true_entities, true_tags = y_true[\"entity\"][idx], y_true[\"tag\"][idx]\n",
    "\n",
    "            true_total += len(true_entities)\n",
    "            pred_total += len(pred_entities)\n",
    "\n",
    "            #주의 : 추론 리스트에서 존재하는 것으로 확인된 것은 remove (substring : 동일한 NE가 2개 이상인 경우를 고려)\n",
    "            for e_t, t_t in zip(true_entities,true_tags): #정답리스트의 NE가 추론리스트에 존재하는지\n",
    "                result, e_p, t_p = self._check_correct_answer(e_t,t_t, pred_entities, pred_tags)\n",
    "                if result == True:\n",
    "                    pred_entities.remove(e_p)\n",
    "                    pred_tags.remove(t_p)\n",
    "                    TP += 1\n",
    "      \n",
    "        precision = TP / pred_total\n",
    "        recall = TP / true_total\n",
    "        f1_score = 2 / (1/precision + 1/recall)\n",
    "\n",
    "        print(\"prediction 개수 : \", pred_total)\n",
    "        print(\"ground truth 개수 : \",true_total)\n",
    "        print(\"precision : \",precision)\n",
    "        print(\"recall : \", recall)\n",
    "        print(\"f1_score : \",f1_score)\n",
    "\n",
    "        return precision, recall, f1_score,y_pred,y_true"
   ]
  },
  {
   "cell_type": "code",
   "execution_count": 4,
   "metadata": {},
   "outputs": [
    {
     "name": "stdout",
     "output_type": "stream",
     "text": [
      "prediction 개수 :  12450\n",
      "ground truth 개수 :  13075\n",
      "precision :  0.9327710843373493\n",
      "recall :  0.8881835564053537\n",
      "f1_score :  0.9099314397649363\n"
     ]
    }
   ],
   "source": [
    "predictions_df = pd.read_csv('./output/submission.csv')\n",
    "e = Evaluator(predictions_df)\n",
    "precision, recall, f1_score,y_pred,y_true = e.evaluate()"
   ]
  }
 ],
 "metadata": {
  "colab": {
   "collapsed_sections": [],
   "provenance": []
  },
  "kernelspec": {
   "display_name": "PyTorch 1.13 (NGC 22.05/Python 3.8 Conda) on Backend.AI",
   "language": "python",
   "name": "python3"
  },
  "language_info": {
   "codemirror_mode": {
    "name": "ipython",
    "version": 3
   },
   "file_extension": ".py",
   "mimetype": "text/x-python",
   "name": "python",
   "nbconvert_exporter": "python",
   "pygments_lexer": "ipython3",
   "version": "3.8.13"
  }
 },
 "nbformat": 4,
 "nbformat_minor": 4
}
