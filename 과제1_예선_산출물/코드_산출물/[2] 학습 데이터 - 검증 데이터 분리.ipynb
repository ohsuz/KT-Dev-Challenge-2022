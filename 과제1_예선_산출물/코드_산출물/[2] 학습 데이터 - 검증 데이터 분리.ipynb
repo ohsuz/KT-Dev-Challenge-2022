{
 "cells": [
  {
   "cell_type": "code",
   "execution_count": 1,
   "metadata": {
    "scrolled": true
   },
   "outputs": [
    {
     "name": "stdout",
     "output_type": "stream",
     "text": [
      "Requirement already satisfied: deep_utils in /opt/conda/lib/python3.8/site-packages (0.10.3)\n",
      "Requirement already satisfied: tqdm>=4.62.3 in /opt/conda/lib/python3.8/site-packages (from deep_utils) (4.62.3)\n",
      "Requirement already satisfied: requests>=2.27.1 in /opt/conda/lib/python3.8/site-packages (from deep_utils) (2.28.1)\n",
      "Requirement already satisfied: numpy>=1.21.0 in /opt/conda/lib/python3.8/site-packages (from deep_utils) (1.23.3)\n",
      "Requirement already satisfied: urllib3<1.27,>=1.21.1 in /opt/conda/lib/python3.8/site-packages (from requests>=2.27.1->deep_utils) (1.26.7)\n",
      "Requirement already satisfied: certifi>=2017.4.17 in /opt/conda/lib/python3.8/site-packages (from requests>=2.27.1->deep_utils) (2021.5.30)\n",
      "Requirement already satisfied: idna<4,>=2.5 in /opt/conda/lib/python3.8/site-packages (from requests>=2.27.1->deep_utils) (3.1)\n",
      "Requirement already satisfied: charset-normalizer<3,>=2 in /opt/conda/lib/python3.8/site-packages (from requests>=2.27.1->deep_utils) (2.0.0)\n",
      "\u001b[33mWARNING: Running pip as the 'root' user can result in broken permissions and conflicting behaviour with the system package manager. It is recommended to use a virtual environment instead: https://pip.pypa.io/warnings/venv\u001b[0m\n",
      "Requirement already satisfied: opencv-python in /opt/conda/lib/python3.8/site-packages (4.6.0.66)\n",
      "Requirement already satisfied: numpy>=1.17.3 in /opt/conda/lib/python3.8/site-packages (from opencv-python) (1.23.3)\n",
      "\u001b[33mWARNING: Running pip as the 'root' user can result in broken permissions and conflicting behaviour with the system package manager. It is recommended to use a virtual environment instead: https://pip.pypa.io/warnings/venv\u001b[0m\n"
     ]
    }
   ],
   "source": [
    "!pip install deep_utils\n",
    "!pip install opencv-python"
   ]
  },
  {
   "cell_type": "code",
   "execution_count": 2,
   "metadata": {
    "colab": {
     "base_uri": "https://localhost:8080/"
    },
    "id": "3KyvxR13rWRG",
    "outputId": "09c4fb59-f18e-4aba-bf06-a916c0cd7fd3"
   },
   "outputs": [],
   "source": [
    "import re\n",
    "import pandas as pd\n",
    "import numpy as np\n",
    "from collections import defaultdict\n",
    "from IPython.core.display import HTML\n",
    "import tensorflow as tf\n",
    "import torch\n",
    "from deep_utils import stratify_train_test_split_multi_label\n",
    "import matplotlib.pyplot as plt\n",
    "%matplotlib inline"
   ]
  },
  {
   "cell_type": "code",
   "execution_count": 3,
   "metadata": {
    "id": "VKSbRVUErdLb"
   },
   "outputs": [],
   "source": [
    "f = open('data/train.txt')\n",
    "train_data = f.readlines()\n",
    "\n",
    "f = open('data/test.txt')\n",
    "test_data = f.readlines()"
   ]
  },
  {
   "cell_type": "markdown",
   "metadata": {
    "id": "z38x7Q0bVyRH"
   },
   "source": [
    "## 📌  Raw Data 전처리\n",
    "> 대회에서 제공한 train/text 데이터를 학습할 데이터를 생성하기 용이한 형태로 변경하는 단계입니다.\n",
    "1. ```Input``` : raw train, text 데이터\n",
    "2. ```Output``` : ner tag가 제거된 text, text에 포함된 entity/tag리스트, entity 개수 "
   ]
  },
  {
   "cell_type": "code",
   "execution_count": 4,
   "metadata": {
    "id": "04b315b7"
   },
   "outputs": [],
   "source": [
    "def preprocess_text(line):\n",
    "    entities, tags = [], []\n",
    "    l = re.findall(r'<[%-=+,#/\\?:^.@*\\\"※~ㆍ!』‘|\\(\\)\\[\\]`\\'…》\\”\\“\\’·\\s0-9ㄱ-ㅣ가-힣A-Za-z]+:[A-Za-z]+>', line)\n",
    "    \n",
    "    for label in l:\n",
    "        entity, tag = label.replace('<', '').replace('>','').split(':')\n",
    "        entities.append(entity)\n",
    "        tags.append(tag)\n",
    "        line = line.replace('\\n', '').replace(label, entity)\n",
    "    \n",
    "    return line, entities, tags"
   ]
  },
  {
   "cell_type": "code",
   "execution_count": 5,
   "metadata": {
    "id": "0061da4c"
   },
   "outputs": [],
   "source": [
    "def prepare_df(data):\n",
    "    preprocessed_text, entities, tags, counts = [], [], [], []\n",
    "    \n",
    "    for line in data:\n",
    "        line, entity, tag = preprocess_text(line)\n",
    "        preprocessed_text.append(line)\n",
    "        entities.append(entity)\n",
    "        tags.append(tag)\n",
    "        counts.append(len(entity))\n",
    "    \n",
    "    df = pd.DataFrame({\"text\": data, 'preprocessed_text': preprocessed_text, 'entities': entities, 'tags': tags, 'cnt': counts})\n",
    "    return df"
   ]
  },
  {
   "cell_type": "code",
   "execution_count": 6,
   "metadata": {
    "id": "06728c09"
   },
   "outputs": [],
   "source": [
    "train_df = prepare_df(train_data)\n",
    "test_df = prepare_df(test_data)"
   ]
  },
  {
   "cell_type": "code",
   "execution_count": 7,
   "metadata": {
    "id": "0YlfkTECNUN3"
   },
   "outputs": [],
   "source": [
    "train_df[\"id\"] = train_df.index"
   ]
  },
  {
   "cell_type": "code",
   "execution_count": 8,
   "metadata": {
    "colab": {
     "base_uri": "https://localhost:8080/",
     "height": 389
    },
    "id": "ZvJokY7Cs5vy",
    "outputId": "5b9c4087-5f74-45dd-b737-12cf97885934"
   },
   "outputs": [
    {
     "data": {
      "text/html": [
       "<div>\n",
       "<style scoped>\n",
       "    .dataframe tbody tr th:only-of-type {\n",
       "        vertical-align: middle;\n",
       "    }\n",
       "\n",
       "    .dataframe tbody tr th {\n",
       "        vertical-align: top;\n",
       "    }\n",
       "\n",
       "    .dataframe thead th {\n",
       "        text-align: right;\n",
       "    }\n",
       "</style>\n",
       "<table border=\"1\" class=\"dataframe\">\n",
       "  <thead>\n",
       "    <tr style=\"text-align: right;\">\n",
       "      <th></th>\n",
       "      <th>text</th>\n",
       "      <th>preprocessed_text</th>\n",
       "      <th>entities</th>\n",
       "      <th>tags</th>\n",
       "      <th>cnt</th>\n",
       "      <th>id</th>\n",
       "    </tr>\n",
       "  </thead>\n",
       "  <tbody>\n",
       "    <tr>\n",
       "      <th>0</th>\n",
       "      <td>아름다운 &lt;첫걸음:QT&gt; . 과정없이 자라는 나무는 없어요~\\n</td>\n",
       "      <td>아름다운 첫걸음 . 과정없이 자라는 나무는 없어요~</td>\n",
       "      <td>[첫걸음]</td>\n",
       "      <td>[QT]</td>\n",
       "      <td>1</td>\n",
       "      <td>0</td>\n",
       "    </tr>\n",
       "    <tr>\n",
       "      <th>1</th>\n",
       "      <td>TV상영종료후 &lt;1년뒤:DT&gt;에 극장판이 나올정도의 초 대작.TV편의 설정오류 수정...</td>\n",
       "      <td>TV상영종료후 1년뒤에 극장판이 나올정도의 초 대작.TV편의 설정오류 수정과 새로운...</td>\n",
       "      <td>[1년뒤]</td>\n",
       "      <td>[DT]</td>\n",
       "      <td>1</td>\n",
       "      <td>1</td>\n",
       "    </tr>\n",
       "    <tr>\n",
       "      <th>2</th>\n",
       "      <td>지루할 틈없이 웃음포인트들이 있고, &lt;4년전:DT&gt; 영화지만 지금:봐도 재미있네요\\n</td>\n",
       "      <td>지루할 틈없이 웃음포인트들이 있고, 4년전 영화지만 지금:봐도 재미있네요</td>\n",
       "      <td>[4년전]</td>\n",
       "      <td>[DT]</td>\n",
       "      <td>1</td>\n",
       "      <td>2</td>\n",
       "    </tr>\n",
       "    <tr>\n",
       "      <th>3</th>\n",
       "      <td>&lt;고3:QT&gt;때 개봉날 극장서 봤는데 당시 엄청 감동이였음.같이 본 여자애들 울고 ...</td>\n",
       "      <td>고3때 개봉날 극장서 봤는데 당시 엄청 감동이였음.같이 본 여자애들 울고 그랬어요.</td>\n",
       "      <td>[고3]</td>\n",
       "      <td>[QT]</td>\n",
       "      <td>1</td>\n",
       "      <td>3</td>\n",
       "    </tr>\n",
       "    <tr>\n",
       "      <th>4</th>\n",
       "      <td>눈물 펑펑 역시 &lt;병만:PS&gt;삼촌은 기대를 져버리지 않았슴다!\\n</td>\n",
       "      <td>눈물 펑펑 역시 병만삼촌은 기대를 져버리지 않았슴다!</td>\n",
       "      <td>[병만]</td>\n",
       "      <td>[PS]</td>\n",
       "      <td>1</td>\n",
       "      <td>4</td>\n",
       "    </tr>\n",
       "  </tbody>\n",
       "</table>\n",
       "</div>"
      ],
      "text/plain": [
       "                                                text  \\\n",
       "0                아름다운 <첫걸음:QT> . 과정없이 자라는 나무는 없어요~\\n   \n",
       "1  TV상영종료후 <1년뒤:DT>에 극장판이 나올정도의 초 대작.TV편의 설정오류 수정...   \n",
       "2    지루할 틈없이 웃음포인트들이 있고, <4년전:DT> 영화지만 지금:봐도 재미있네요\\n   \n",
       "3  <고3:QT>때 개봉날 극장서 봤는데 당시 엄청 감동이였음.같이 본 여자애들 울고 ...   \n",
       "4               눈물 펑펑 역시 <병만:PS>삼촌은 기대를 져버리지 않았슴다!\\n   \n",
       "\n",
       "                                   preprocessed_text entities  tags  cnt  id  \n",
       "0                       아름다운 첫걸음 . 과정없이 자라는 나무는 없어요~    [첫걸음]  [QT]    1   0  \n",
       "1  TV상영종료후 1년뒤에 극장판이 나올정도의 초 대작.TV편의 설정오류 수정과 새로운...    [1년뒤]  [DT]    1   1  \n",
       "2           지루할 틈없이 웃음포인트들이 있고, 4년전 영화지만 지금:봐도 재미있네요    [4년전]  [DT]    1   2  \n",
       "3     고3때 개봉날 극장서 봤는데 당시 엄청 감동이였음.같이 본 여자애들 울고 그랬어요.     [고3]  [QT]    1   3  \n",
       "4                      눈물 펑펑 역시 병만삼촌은 기대를 져버리지 않았슴다!     [병만]  [PS]    1   4  "
      ]
     },
     "execution_count": 8,
     "metadata": {},
     "output_type": "execute_result"
    }
   ],
   "source": [
    "train_df.head()"
   ]
  },
  {
   "cell_type": "markdown",
   "metadata": {
    "id": "VepZXN7nf6d_"
   },
   "source": [
    "# 💡 학습 데이터 - 검증 데이터 분리"
   ]
  },
  {
   "cell_type": "markdown",
   "metadata": {
    "id": "t5LfJI-PalRa"
   },
   "source": [
    "> [**deep_utils**](https://github.com/pooya-mohammadi/deep_utils)  패키지에서  `stratify_train_test_split_multi_label`을 활용하여 데이터의 분포를 유지하면서 **train:val=8:2** 비율로 분리했습니다. 분리 비율은 `test_size`를 통해 조절 가능합니다.  \n",
    "\n",
    "- NER task에서 train:val 데이터를 분리할 때 고려해야 되는 점은 2가지가 있습니다.  \n",
    "    **① 각 데이터에 포함된 태그의 분포**: 학습 과정에서 학습한 내용에 대한 정확한 검증을 위해선 두 데이터 간 태그 분포가 유사해야 합니다.  \n",
    "    **② 각 데이터에 포함된 태그 개수의 분포**: 데이터에 포함된 태그의 분포가 유사하더라도 각 데이터에 포함된 태그 개수의 분포는 다를 수 있습니다. 일례로 PS 태그가 하나 포함된 데이터가 10개 있는 데이터와 PS 태그가 10개 포함된 데이터가 1개 있는 데이터의 태그 분포는 동일하지만 태그 개수 분포는 전혀 달라집니다. 이러한 차이는 학습시 방해 요소가 될 수 있으므로 태그 분포와 함께 태그 개수의 분포도 고려하여 분리해야 합니다.\n",
    "    \n",
    "- 저희는 `stratify_train_test_split_multi_label`를 이용해 train 데이터와 validation 데이터 간 **(1) 태그 분포 (2) 태그 개수 분포**를 최대한 동일하게 유지하며 분리할 수 있습니다."
   ]
  },
  {
   "cell_type": "code",
   "execution_count": 9,
   "metadata": {
    "id": "A-gv6Ws9y3yB"
   },
   "outputs": [],
   "source": [
    "tags = ['PS', 'LC', 'OG', 'DT', 'TI', 'QT']\n",
    "\n",
    "def convert_tags_to_vector(tags):\n",
    "    labels = [0]*6\n",
    "    for tag in tags:\n",
    "        if tag == 'QT':\n",
    "            labels[0] += 1\n",
    "        if tag == 'DT':\n",
    "            labels[1] += 1\n",
    "        if tag == 'PS':\n",
    "            labels[2] += 1\n",
    "        if tag == 'LC':\n",
    "            labels[3] += 1\n",
    "        if tag == 'TI':\n",
    "            labels[4] += 1\n",
    "        if tag == 'OG':\n",
    "            labels[5] += 1\n",
    "    return labels"
   ]
  },
  {
   "cell_type": "code",
   "execution_count": 10,
   "metadata": {
    "id": "m3zdYtpZzi-r"
   },
   "outputs": [],
   "source": [
    "train_df[\"y\"] = train_df[\"tags\"].apply(lambda x : convert_tags_to_vector(x))"
   ]
  },
  {
   "cell_type": "code",
   "execution_count": 11,
   "metadata": {
    "colab": {
     "base_uri": "https://localhost:8080/"
    },
    "id": "v0UIzIKg7kRT",
    "outputId": "1b1b3eee-96db-416e-ab30-80e0d5b03507"
   },
   "outputs": [
    {
     "data": {
      "text/plain": [
       "array([[ 1,  0,  0,  0,  0,  0],\n",
       "       [ 0,  1,  0,  0,  0,  0],\n",
       "       [ 0,  1,  0,  0,  0,  0],\n",
       "       ...,\n",
       "       [ 9,  1,  0,  9,  1,  0],\n",
       "       [ 7,  1,  0, 10,  1,  1],\n",
       "       [11,  0,  0, 11,  1,  0]])"
      ]
     },
     "execution_count": 11,
     "metadata": {},
     "output_type": "execute_result"
    }
   ],
   "source": [
    "y = np.array([np.array(ls) for ls in train_df[\"y\"]])\n",
    "y"
   ]
  },
  {
   "cell_type": "code",
   "execution_count": 12,
   "metadata": {
    "id": "8PDiAZ7T_oia"
   },
   "outputs": [],
   "source": [
    "train_X, test_X, train_y, test_y = stratify_train_test_split_multi_label(train_df[\"id\"], y, test_size=0.2)"
   ]
  },
  {
   "cell_type": "code",
   "execution_count": 13,
   "metadata": {
    "id": "Hm2YCSunNFTk"
   },
   "outputs": [],
   "source": [
    "train = train_df.loc[train_X]\n",
    "val = train_df.loc[test_X]"
   ]
  },
  {
   "cell_type": "code",
   "execution_count": 14,
   "metadata": {
    "colab": {
     "base_uri": "https://localhost:8080/"
    },
    "id": "0hwiSga4R9IN",
    "outputId": "8af7eec7-f3ec-487b-b990-595c6023dcb1"
   },
   "outputs": [
    {
     "data": {
      "text/plain": [
       "(16761, 4041)"
      ]
     },
     "execution_count": 14,
     "metadata": {},
     "output_type": "execute_result"
    }
   ],
   "source": [
    "# 8:2 분리 시 train:val 데이터 개수 확인\n",
    "\n",
    "len(train),len(val)"
   ]
  },
  {
   "cell_type": "markdown",
   "metadata": {
    "id": "sqRoK7it6n5z"
   },
   "source": [
    "## [1] 태그 분포 확인\n",
    "> 학습 데이터와 검증 데이터 간 태그 분포가 거의 동일한 상태로 분리된 걸 확인할 수 있습니다."
   ]
  },
  {
   "cell_type": "code",
   "execution_count": 15,
   "metadata": {},
   "outputs": [],
   "source": [
    "train_total_ent, val_total_ent = [], []\n",
    "\n",
    "for tags in train[\"tags\"]:\n",
    "    train_total_ent.extend(tags)\n",
    "    \n",
    "for tags in val[\"tags\"]:\n",
    "    val_total_ent.extend(tags)"
   ]
  },
  {
   "cell_type": "code",
   "execution_count": 16,
   "metadata": {},
   "outputs": [
    {
     "data": {
      "text/plain": [
       "({'PS': 12091, 'LC': 5360, 'OG': 6839, 'DT': 6596, 'TI': 1649, 'QT': 9512},\n",
       " {'PS': 3023, 'LC': 1341, 'OG': 1710, 'DT': 1650, 'TI': 413, 'QT': 2378})"
      ]
     },
     "execution_count": 16,
     "metadata": {},
     "output_type": "execute_result"
    }
   ],
   "source": [
    "tags = ['PS', 'LC', 'OG', 'DT', 'TI', 'QT']\n",
    "train_ent_dict = {'PS': 0, 'LC': 0, 'OG': 0, 'DT': 0, 'TI': 0, 'QT': 0}\n",
    "val_ent_dict = {'PS': 0, 'LC': 0, 'OG': 0, 'DT': 0, 'TI': 0, 'QT': 0}\n",
    "\n",
    "for tag in tags:\n",
    "    train_ent_dict[tag] = train_total_ent.count(tag)\n",
    "    val_ent_dict[tag] = val_total_ent.count(tag)\n",
    "        \n",
    "train_ent_dict, val_ent_dict"
   ]
  },
  {
   "cell_type": "code",
   "execution_count": 17,
   "metadata": {
    "colab": {
     "base_uri": "https://localhost:8080/",
     "height": 238
    },
    "id": "MX04tdFqC8La",
    "outputId": "99e57dd9-e6c1-42ec-8381-64cf8993c531"
   },
   "outputs": [
    {
     "data": {
      "text/html": [
       "<div>\n",
       "<style scoped>\n",
       "    .dataframe tbody tr th:only-of-type {\n",
       "        vertical-align: middle;\n",
       "    }\n",
       "\n",
       "    .dataframe tbody tr th {\n",
       "        vertical-align: top;\n",
       "    }\n",
       "\n",
       "    .dataframe thead th {\n",
       "        text-align: right;\n",
       "    }\n",
       "</style>\n",
       "<table border=\"1\" class=\"dataframe\">\n",
       "  <thead>\n",
       "    <tr style=\"text-align: right;\">\n",
       "      <th></th>\n",
       "      <th>train</th>\n",
       "      <th>val</th>\n",
       "      <th>train_proportion</th>\n",
       "      <th>val_proportion</th>\n",
       "    </tr>\n",
       "  </thead>\n",
       "  <tbody>\n",
       "    <tr>\n",
       "      <th>PS</th>\n",
       "      <td>12091</td>\n",
       "      <td>3023</td>\n",
       "      <td>0.287559</td>\n",
       "      <td>0.287494</td>\n",
       "    </tr>\n",
       "    <tr>\n",
       "      <th>LC</th>\n",
       "      <td>5360</td>\n",
       "      <td>1341</td>\n",
       "      <td>0.127476</td>\n",
       "      <td>0.127532</td>\n",
       "    </tr>\n",
       "    <tr>\n",
       "      <th>OG</th>\n",
       "      <td>6839</td>\n",
       "      <td>1710</td>\n",
       "      <td>0.162651</td>\n",
       "      <td>0.162625</td>\n",
       "    </tr>\n",
       "    <tr>\n",
       "      <th>DT</th>\n",
       "      <td>6596</td>\n",
       "      <td>1650</td>\n",
       "      <td>0.156872</td>\n",
       "      <td>0.156919</td>\n",
       "    </tr>\n",
       "    <tr>\n",
       "      <th>TI</th>\n",
       "      <td>1649</td>\n",
       "      <td>413</td>\n",
       "      <td>0.039218</td>\n",
       "      <td>0.039277</td>\n",
       "    </tr>\n",
       "    <tr>\n",
       "      <th>QT</th>\n",
       "      <td>9512</td>\n",
       "      <td>2378</td>\n",
       "      <td>0.226223</td>\n",
       "      <td>0.226153</td>\n",
       "    </tr>\n",
       "  </tbody>\n",
       "</table>\n",
       "</div>"
      ],
      "text/plain": [
       "    train   val  train_proportion  val_proportion\n",
       "PS  12091  3023          0.287559        0.287494\n",
       "LC   5360  1341          0.127476        0.127532\n",
       "OG   6839  1710          0.162651        0.162625\n",
       "DT   6596  1650          0.156872        0.156919\n",
       "TI   1649   413          0.039218        0.039277\n",
       "QT   9512  2378          0.226223        0.226153"
      ]
     },
     "execution_count": 17,
     "metadata": {},
     "output_type": "execute_result"
    }
   ],
   "source": [
    "train_cnt = list(train_ent_dict.values())\n",
    "val_cnt = list(val_ent_dict.values())\n",
    "train_prop = [cnt / sum(train_cnt) for cnt in train_cnt]\n",
    "val_prop = [cnt / sum(val_cnt) for cnt in val_cnt]\n",
    "\n",
    "tag_cnt_df = pd.DataFrame({'train' : train_cnt, 'val' : val_cnt, 'train_proportion' : train_prop, 'val_proportion' : val_prop}, index = tags)\n",
    "tag_cnt_df"
   ]
  },
  {
   "cell_type": "code",
   "execution_count": 18,
   "metadata": {
    "colab": {
     "base_uri": "https://localhost:8080/",
     "height": 365
    },
    "id": "8rUvoqVzATLF",
    "outputId": "459fb2fe-5938-4347-adfb-7a0898154543",
    "scrolled": true
   },
   "outputs": [
    {
     "data": {
      "image/png": "[encoded data removed]",
      "text/plain": [
       "<Figure size 864x432 with 1 Axes>"
      ]
     },
     "metadata": {
      "needs_background": "light"
     },
     "output_type": "display_data"
    }
   ],
   "source": [
    "fig, ax = plt.subplots(figsize=(12,6))\n",
    "bar_width = 0.25\n",
    "\n",
    "index = np.arange(6)\n",
    "\n",
    "b1 = plt.bar(index, tag_cnt_df['train'], bar_width, alpha=0.4, color='red', label='train')\n",
    "\n",
    "b2 = plt.bar(index + bar_width, tag_cnt_df['val'], bar_width, alpha=0.4, color='blue', label='val')\n",
    "\n",
    "plt.xticks(np.arange(bar_width, 6 + bar_width, 1), tags)\n",
    "\n",
    "plt.xlabel('Tag', size = 13)\n",
    "plt.ylabel('Count', size = 13)\n",
    "plt.legend()\n",
    "plt.show()"
   ]
  },
  {
   "cell_type": "markdown",
   "metadata": {
    "id": "pzubcoJI6Se3"
   },
   "source": [
    "## [2] 태그 개수 분포 확인\n",
    "> 태그가 많이 포함된 데이터가 어느 한쪽으로 쏠리는 현상 없이 학습 데이터와 검증 데이터 간 태그 개수 분포가 유사하게 분리된 걸 확인할 수 있습니다."
   ]
  },
  {
   "cell_type": "code",
   "execution_count": 19,
   "metadata": {},
   "outputs": [
    {
     "name": "stdout",
     "output_type": "stream",
     "text": [
      "defaultdict(<class 'int'>, {1: 6243, 2: 4229, 3: 2547, 4: 1752, 5: 797, 6: 538, 7: 296, 8: 152, 9: 84, 10: 48, 11: 30, 12: 17, 13: 9, 14: 6, 15: 3, 16: 4, 18: 3, 19: 1, 20: 1, 23: 1})\n",
      "defaultdict(<class 'int'>, {1: 2220, 2: 643, 3: 185, 4: 45, 5: 320, 6: 239, 7: 177, 8: 82, 9: 60, 10: 33, 11: 15, 12: 9, 13: 2, 14: 4, 15: 3, 16: 1, 19: 1, 20: 2})\n"
     ]
    }
   ],
   "source": [
    "train_len_dict, val_len_dict = defaultdict(int), defaultdict(int)\n",
    "\n",
    "for tags in train[\"tags\"]:\n",
    "    train_len_dict[len(tags)] += 1\n",
    "        \n",
    "for tags in val[\"tags\"]:\n",
    "    val_len_dict[len(tags)] += 1\n",
    "    \n",
    "print(train_len_dict)\n",
    "print(val_len_dict)"
   ]
  },
  {
   "cell_type": "code",
   "execution_count": 20,
   "metadata": {
    "id": "7PVOx8SDql25"
   },
   "outputs": [],
   "source": [
    "for idx in range(1,24):\n",
    "    if idx not in train_len_dict.keys():\n",
    "        train_len_dict[idx] = 0\n",
    "\n",
    "for idx in range(1,24):\n",
    "    if idx not in val_len_dict.keys():\n",
    "        val_len_dict[idx] = 0\n",
    "        \n",
    "train_len_dict = dict(sorted(train_len_dict.items()))\n",
    "val_len_dict = dict(sorted(val_len_dict.items()))"
   ]
  },
  {
   "cell_type": "code",
   "execution_count": 21,
   "metadata": {},
   "outputs": [
    {
     "data": {
      "text/html": [
       "<div>\n",
       "<style scoped>\n",
       "    .dataframe tbody tr th:only-of-type {\n",
       "        vertical-align: middle;\n",
       "    }\n",
       "\n",
       "    .dataframe tbody tr th {\n",
       "        vertical-align: top;\n",
       "    }\n",
       "\n",
       "    .dataframe thead th {\n",
       "        text-align: right;\n",
       "    }\n",
       "</style>\n",
       "<table border=\"1\" class=\"dataframe\">\n",
       "  <thead>\n",
       "    <tr style=\"text-align: right;\">\n",
       "      <th></th>\n",
       "      <th>train</th>\n",
       "      <th>val</th>\n",
       "    </tr>\n",
       "  </thead>\n",
       "  <tbody>\n",
       "    <tr>\n",
       "      <th>1</th>\n",
       "      <td>6243</td>\n",
       "      <td>2220</td>\n",
       "    </tr>\n",
       "    <tr>\n",
       "      <th>2</th>\n",
       "      <td>4229</td>\n",
       "      <td>643</td>\n",
       "    </tr>\n",
       "    <tr>\n",
       "      <th>3</th>\n",
       "      <td>2547</td>\n",
       "      <td>185</td>\n",
       "    </tr>\n",
       "    <tr>\n",
       "      <th>4</th>\n",
       "      <td>1752</td>\n",
       "      <td>45</td>\n",
       "    </tr>\n",
       "    <tr>\n",
       "      <th>5</th>\n",
       "      <td>797</td>\n",
       "      <td>320</td>\n",
       "    </tr>\n",
       "    <tr>\n",
       "      <th>6</th>\n",
       "      <td>538</td>\n",
       "      <td>239</td>\n",
       "    </tr>\n",
       "    <tr>\n",
       "      <th>7</th>\n",
       "      <td>296</td>\n",
       "      <td>177</td>\n",
       "    </tr>\n",
       "    <tr>\n",
       "      <th>8</th>\n",
       "      <td>152</td>\n",
       "      <td>82</td>\n",
       "    </tr>\n",
       "    <tr>\n",
       "      <th>9</th>\n",
       "      <td>84</td>\n",
       "      <td>60</td>\n",
       "    </tr>\n",
       "    <tr>\n",
       "      <th>10</th>\n",
       "      <td>48</td>\n",
       "      <td>33</td>\n",
       "    </tr>\n",
       "    <tr>\n",
       "      <th>11</th>\n",
       "      <td>30</td>\n",
       "      <td>15</td>\n",
       "    </tr>\n",
       "    <tr>\n",
       "      <th>12</th>\n",
       "      <td>17</td>\n",
       "      <td>9</td>\n",
       "    </tr>\n",
       "    <tr>\n",
       "      <th>13</th>\n",
       "      <td>9</td>\n",
       "      <td>2</td>\n",
       "    </tr>\n",
       "    <tr>\n",
       "      <th>14</th>\n",
       "      <td>6</td>\n",
       "      <td>4</td>\n",
       "    </tr>\n",
       "    <tr>\n",
       "      <th>15</th>\n",
       "      <td>3</td>\n",
       "      <td>3</td>\n",
       "    </tr>\n",
       "    <tr>\n",
       "      <th>16</th>\n",
       "      <td>4</td>\n",
       "      <td>1</td>\n",
       "    </tr>\n",
       "    <tr>\n",
       "      <th>17</th>\n",
       "      <td>0</td>\n",
       "      <td>0</td>\n",
       "    </tr>\n",
       "    <tr>\n",
       "      <th>18</th>\n",
       "      <td>3</td>\n",
       "      <td>0</td>\n",
       "    </tr>\n",
       "    <tr>\n",
       "      <th>19</th>\n",
       "      <td>1</td>\n",
       "      <td>1</td>\n",
       "    </tr>\n",
       "    <tr>\n",
       "      <th>20</th>\n",
       "      <td>1</td>\n",
       "      <td>2</td>\n",
       "    </tr>\n",
       "    <tr>\n",
       "      <th>21</th>\n",
       "      <td>0</td>\n",
       "      <td>0</td>\n",
       "    </tr>\n",
       "    <tr>\n",
       "      <th>22</th>\n",
       "      <td>0</td>\n",
       "      <td>0</td>\n",
       "    </tr>\n",
       "    <tr>\n",
       "      <th>23</th>\n",
       "      <td>1</td>\n",
       "      <td>0</td>\n",
       "    </tr>\n",
       "  </tbody>\n",
       "</table>\n",
       "</div>"
      ],
      "text/plain": [
       "    train   val\n",
       "1    6243  2220\n",
       "2    4229   643\n",
       "3    2547   185\n",
       "4    1752    45\n",
       "5     797   320\n",
       "6     538   239\n",
       "7     296   177\n",
       "8     152    82\n",
       "9      84    60\n",
       "10     48    33\n",
       "11     30    15\n",
       "12     17     9\n",
       "13      9     2\n",
       "14      6     4\n",
       "15      3     3\n",
       "16      4     1\n",
       "17      0     0\n",
       "18      3     0\n",
       "19      1     1\n",
       "20      1     2\n",
       "21      0     0\n",
       "22      0     0\n",
       "23      1     0"
      ]
     },
     "execution_count": 21,
     "metadata": {},
     "output_type": "execute_result"
    }
   ],
   "source": [
    "tag_N_cnt_df = pd.DataFrame({'train' : list(train_len_dict.values()), 'val' : list(val_len_dict.values())}, index = train_len_dict.keys())\n",
    "tag_N_cnt_df"
   ]
  },
  {
   "cell_type": "code",
   "execution_count": 22,
   "metadata": {
    "colab": {
     "base_uri": "https://localhost:8080/",
     "height": 368
    },
    "id": "SN5emEVgpBL6",
    "outputId": "2bc2f127-d900-4590-f233-d1e3c1a2409d"
   },
   "outputs": [
    {
     "data": {
      "image/png": "[encoded data removed]",
      "text/plain": [
       "<Figure size 864x432 with 1 Axes>"
      ]
     },
     "metadata": {
      "needs_background": "light"
     },
     "output_type": "display_data"
    }
   ],
   "source": [
    "fig, ax = plt.subplots(figsize=(12,6))\n",
    "bar_width = 0.25\n",
    "\n",
    "index = np.arange(1,24)\n",
    "\n",
    "b1 = plt.bar(index,  train_len_dict.values(), bar_width, alpha=0.4, color='red', label='train')\n",
    "\n",
    "b2 = plt.bar(index + bar_width, val_len_dict.values(), bar_width, alpha=0.4, color='blue', label='val')\n",
    "\n",
    "plt.xticks(index, train_len_dict.keys())\n",
    "\n",
    "plt.xlabel('The number of tags per data', size = 13)\n",
    "plt.ylabel('Count', size = 13)\n",
    "plt.legend()\n",
    "plt.show()"
   ]
  },
  {
   "cell_type": "code",
   "execution_count": null,
   "metadata": {},
   "outputs": [],
   "source": []
  }
 ],
 "metadata": {
  "colab": {
   "collapsed_sections": [],
   "provenance": []
  },
  "kernelspec": {
   "display_name": "Python 3 (ipykernel)",
   "language": "python",
   "name": "python3"
  },
  "language_info": {
   "codemirror_mode": {
    "name": "ipython",
    "version": 3
   },
   "file_extension": ".py",
   "mimetype": "text/x-python",
   "name": "python",
   "nbconvert_exporter": "python",
   "pygments_lexer": "ipython3",
   "version": "3.8.10"
  }
 },
 "nbformat": 4,
 "nbformat_minor": 1
}
