{
 "cells": [
  {
   "cell_type": "code",
   "execution_count": 1,
   "id": "4882a4de",
   "metadata": {},
   "outputs": [],
   "source": [
    "import re\n",
    "import pandas as pd\n",
    "from IPython.core.display import HTML"
   ]
  },
  {
   "cell_type": "code",
   "execution_count": 2,
   "id": "99e76440",
   "metadata": {},
   "outputs": [],
   "source": [
    "f = open('data/train.txt')\n",
    "train_data = f.readlines()\n",
    "\n",
    "f = open('data/test.txt')\n",
    "test_data = f.readlines()"
   ]
  },
  {
   "cell_type": "markdown",
   "id": "af0531cc",
   "metadata": {},
   "source": [
    "## 📌 Raw Data 전처리\n",
    "> 대회에서 제공한 train/text 데이터를 학습할 데이터를 생성하기 용이한 형태로 변경하는 단계입니다.\n",
    "1. ```Input``` : raw train, text 데이터\n",
    "2. ```Output``` : ner tag가 제거된 text, text에 포함된 entity/tag리스트, entity 개수 "
   ]
  },
  {
   "cell_type": "code",
   "execution_count": 3,
   "id": "04b315b7",
   "metadata": {},
   "outputs": [],
   "source": [
    "def preprocess_text(line):\n",
    "    entities, tags = [], []\n",
    "    l = re.findall(r'<[%-=+,#/\\?:^.@*\\\"※~ㆍ!』‘|\\(\\)\\[\\]`\\'…》\\”\\“\\’·\\s0-9ㄱ-ㅣ가-힣A-Za-z]+:[A-Za-z]+>', line)\n",
    "    \n",
    "    for label in l:\n",
    "        entity, tag = label.replace('<', '').replace('>','').split(':')\n",
    "        entities.append(entity)\n",
    "        tags.append(tag)\n",
    "        line = line.replace('\\n', '').replace(label, entity)\n",
    "    \n",
    "    return line, entities, tags"
   ]
  },
  {
   "cell_type": "code",
   "execution_count": 4,
   "id": "0061da4c",
   "metadata": {},
   "outputs": [],
   "source": [
    "def prepare_df(data):\n",
    "    preprocessed_text, entities, tags, counts = [], [], [], []\n",
    "    \n",
    "    for line in data:\n",
    "        line, entity, tag = preprocess_text(line)\n",
    "        preprocessed_text.append(line)\n",
    "        entities.append(entity)\n",
    "        tags.append(tag)\n",
    "        counts.append(len(entity))\n",
    "    \n",
    "    df = pd.DataFrame({\"text\": data, 'preprocessed_text': preprocessed_text, 'entities': entities, 'tags': tags, 'cnt': counts})\n",
    "    return df"
   ]
  },
  {
   "cell_type": "code",
   "execution_count": 5,
   "id": "06728c09",
   "metadata": {},
   "outputs": [],
   "source": [
    "train_df = prepare_df(train_data)\n",
    "test_df = prepare_df(test_data)"
   ]
  },
  {
   "cell_type": "code",
   "execution_count": 6,
   "id": "aa7bd7ad",
   "metadata": {},
   "outputs": [
    {
     "data": {
      "text/html": [
       "<div>\n",
       "<style scoped>\n",
       "    .dataframe tbody tr th:only-of-type {\n",
       "        vertical-align: middle;\n",
       "    }\n",
       "\n",
       "    .dataframe tbody tr th {\n",
       "        vertical-align: top;\n",
       "    }\n",
       "\n",
       "    .dataframe thead th {\n",
       "        text-align: right;\n",
       "    }\n",
       "</style>\n",
       "<table border=\"1\" class=\"dataframe\">\n",
       "  <thead>\n",
       "    <tr style=\"text-align: right;\">\n",
       "      <th></th>\n",
       "      <th>text</th>\n",
       "      <th>preprocessed_text</th>\n",
       "      <th>entities</th>\n",
       "      <th>tags</th>\n",
       "      <th>cnt</th>\n",
       "    </tr>\n",
       "  </thead>\n",
       "  <tbody>\n",
       "    <tr>\n",
       "      <th>0</th>\n",
       "      <td>아름다운 &lt;첫걸음:QT&gt; . 과정없이 자라는 나무는 없어요~\\n</td>\n",
       "      <td>아름다운 첫걸음 . 과정없이 자라는 나무는 없어요~</td>\n",
       "      <td>[첫걸음]</td>\n",
       "      <td>[QT]</td>\n",
       "      <td>1</td>\n",
       "    </tr>\n",
       "    <tr>\n",
       "      <th>1</th>\n",
       "      <td>TV상영종료후 &lt;1년뒤:DT&gt;에 극장판이 나올정도의 초 대작.TV편의 설정오류 수정...</td>\n",
       "      <td>TV상영종료후 1년뒤에 극장판이 나올정도의 초 대작.TV편의 설정오류 수정과 새로운...</td>\n",
       "      <td>[1년뒤]</td>\n",
       "      <td>[DT]</td>\n",
       "      <td>1</td>\n",
       "    </tr>\n",
       "    <tr>\n",
       "      <th>2</th>\n",
       "      <td>지루할 틈없이 웃음포인트들이 있고, &lt;4년전:DT&gt; 영화지만 지금:봐도 재미있네요\\n</td>\n",
       "      <td>지루할 틈없이 웃음포인트들이 있고, 4년전 영화지만 지금:봐도 재미있네요</td>\n",
       "      <td>[4년전]</td>\n",
       "      <td>[DT]</td>\n",
       "      <td>1</td>\n",
       "    </tr>\n",
       "    <tr>\n",
       "      <th>3</th>\n",
       "      <td>&lt;고3:QT&gt;때 개봉날 극장서 봤는데 당시 엄청 감동이였음.같이 본 여자애들 울고 ...</td>\n",
       "      <td>고3때 개봉날 극장서 봤는데 당시 엄청 감동이였음.같이 본 여자애들 울고 그랬어요.</td>\n",
       "      <td>[고3]</td>\n",
       "      <td>[QT]</td>\n",
       "      <td>1</td>\n",
       "    </tr>\n",
       "    <tr>\n",
       "      <th>4</th>\n",
       "      <td>눈물 펑펑 역시 &lt;병만:PS&gt;삼촌은 기대를 져버리지 않았슴다!\\n</td>\n",
       "      <td>눈물 펑펑 역시 병만삼촌은 기대를 져버리지 않았슴다!</td>\n",
       "      <td>[병만]</td>\n",
       "      <td>[PS]</td>\n",
       "      <td>1</td>\n",
       "    </tr>\n",
       "  </tbody>\n",
       "</table>\n",
       "</div>"
      ],
      "text/plain": [
       "                                                text  \\\n",
       "0                아름다운 <첫걸음:QT> . 과정없이 자라는 나무는 없어요~\\n   \n",
       "1  TV상영종료후 <1년뒤:DT>에 극장판이 나올정도의 초 대작.TV편의 설정오류 수정...   \n",
       "2    지루할 틈없이 웃음포인트들이 있고, <4년전:DT> 영화지만 지금:봐도 재미있네요\\n   \n",
       "3  <고3:QT>때 개봉날 극장서 봤는데 당시 엄청 감동이였음.같이 본 여자애들 울고 ...   \n",
       "4               눈물 펑펑 역시 <병만:PS>삼촌은 기대를 져버리지 않았슴다!\\n   \n",
       "\n",
       "                                   preprocessed_text entities  tags  cnt  \n",
       "0                       아름다운 첫걸음 . 과정없이 자라는 나무는 없어요~    [첫걸음]  [QT]    1  \n",
       "1  TV상영종료후 1년뒤에 극장판이 나올정도의 초 대작.TV편의 설정오류 수정과 새로운...    [1년뒤]  [DT]    1  \n",
       "2           지루할 틈없이 웃음포인트들이 있고, 4년전 영화지만 지금:봐도 재미있네요    [4년전]  [DT]    1  \n",
       "3     고3때 개봉날 극장서 봤는데 당시 엄청 감동이였음.같이 본 여자애들 울고 그랬어요.     [고3]  [QT]    1  \n",
       "4                      눈물 펑펑 역시 병만삼촌은 기대를 져버리지 않았슴다!     [병만]  [PS]    1  "
      ]
     },
     "execution_count": 6,
     "metadata": {},
     "output_type": "execute_result"
    }
   ],
   "source": [
    "train_df.head()"
   ]
  },
  {
   "cell_type": "code",
   "execution_count": 7,
   "id": "721107c8",
   "metadata": {
    "scrolled": false
   },
   "outputs": [
    {
     "data": {
      "text/html": [
       "<div>\n",
       "<style scoped>\n",
       "    .dataframe tbody tr th:only-of-type {\n",
       "        vertical-align: middle;\n",
       "    }\n",
       "\n",
       "    .dataframe tbody tr th {\n",
       "        vertical-align: top;\n",
       "    }\n",
       "\n",
       "    .dataframe thead th {\n",
       "        text-align: right;\n",
       "    }\n",
       "</style>\n",
       "<table border=\"1\" class=\"dataframe\">\n",
       "  <thead>\n",
       "    <tr style=\"text-align: right;\">\n",
       "      <th></th>\n",
       "      <th>text</th>\n",
       "      <th>preprocessed_text</th>\n",
       "      <th>entities</th>\n",
       "      <th>tags</th>\n",
       "      <th>cnt</th>\n",
       "    </tr>\n",
       "  </thead>\n",
       "  <tbody>\n",
       "    <tr>\n",
       "      <th>0</th>\n",
       "      <td>초반에 약간 뭐하는거지 할수는있는데뒤로갈수록 몰입도장난아님 주제도좋고 진짜편집좋다 ...</td>\n",
       "      <td>초반에 약간 뭐하는거지 할수는있는데뒤로갈수록 몰입도장난아님 주제도좋고 진짜편집좋다 ...</td>\n",
       "      <td>[앤드류거필드]</td>\n",
       "      <td>[PS]</td>\n",
       "      <td>1</td>\n",
       "    </tr>\n",
       "    <tr>\n",
       "      <th>1</th>\n",
       "      <td>국내 업체들이 마진이 적다는 이유로 경차 개발을 꺼린 탓에 경차가 자동차 시장 전체...</td>\n",
       "      <td>국내 업체들이 마진이 적다는 이유로 경차 개발을 꺼린 탓에 경차가 자동차 시장 전체...</td>\n",
       "      <td>[10%]</td>\n",
       "      <td>[QT]</td>\n",
       "      <td>1</td>\n",
       "    </tr>\n",
       "    <tr>\n",
       "      <th>2</th>\n",
       "      <td>역시 &lt;한지원:PS&gt; 감독님.!코피루왁에서 눈물흘리면서 힐링 잘했습니다\\n</td>\n",
       "      <td>역시 한지원 감독님.!코피루왁에서 눈물흘리면서 힐링 잘했습니다</td>\n",
       "      <td>[한지원]</td>\n",
       "      <td>[PS]</td>\n",
       "      <td>1</td>\n",
       "    </tr>\n",
       "    <tr>\n",
       "      <th>3</th>\n",
       "      <td>&lt;슬라이:PS&gt;가 너무 평법한 액션 스릴러로 풀어버린 작품이다.\\n</td>\n",
       "      <td>슬라이가 너무 평법한 액션 스릴러로 풀어버린 작품이다.</td>\n",
       "      <td>[슬라이]</td>\n",
       "      <td>[PS]</td>\n",
       "      <td>1</td>\n",
       "    </tr>\n",
       "    <tr>\n",
       "      <th>4</th>\n",
       "      <td>&lt;일본:LC&gt; 애니메이션 진격의 거인을 연상시키는 진격의 농부가 등장해 각종 커뮤니...</td>\n",
       "      <td>일본 애니메이션 진격의 거인을 연상시키는 진격의 농부가 등장해 각종 커뮤니티 사이트...</td>\n",
       "      <td>[일본]</td>\n",
       "      <td>[LC]</td>\n",
       "      <td>1</td>\n",
       "    </tr>\n",
       "  </tbody>\n",
       "</table>\n",
       "</div>"
      ],
      "text/plain": [
       "                                                text  \\\n",
       "0  초반에 약간 뭐하는거지 할수는있는데뒤로갈수록 몰입도장난아님 주제도좋고 진짜편집좋다 ...   \n",
       "1  국내 업체들이 마진이 적다는 이유로 경차 개발을 꺼린 탓에 경차가 자동차 시장 전체...   \n",
       "2          역시 <한지원:PS> 감독님.!코피루왁에서 눈물흘리면서 힐링 잘했습니다\\n   \n",
       "3              <슬라이:PS>가 너무 평법한 액션 스릴러로 풀어버린 작품이다.\\n   \n",
       "4  <일본:LC> 애니메이션 진격의 거인을 연상시키는 진격의 농부가 등장해 각종 커뮤니...   \n",
       "\n",
       "                                   preprocessed_text  entities  tags  cnt  \n",
       "0  초반에 약간 뭐하는거지 할수는있는데뒤로갈수록 몰입도장난아님 주제도좋고 진짜편집좋다 ...  [앤드류거필드]  [PS]    1  \n",
       "1  국내 업체들이 마진이 적다는 이유로 경차 개발을 꺼린 탓에 경차가 자동차 시장 전체...     [10%]  [QT]    1  \n",
       "2                 역시 한지원 감독님.!코피루왁에서 눈물흘리면서 힐링 잘했습니다     [한지원]  [PS]    1  \n",
       "3                     슬라이가 너무 평법한 액션 스릴러로 풀어버린 작품이다.     [슬라이]  [PS]    1  \n",
       "4  일본 애니메이션 진격의 거인을 연상시키는 진격의 농부가 등장해 각종 커뮤니티 사이트...      [일본]  [LC]    1  "
      ]
     },
     "execution_count": 7,
     "metadata": {},
     "output_type": "execute_result"
    }
   ],
   "source": [
    "test_df.head()"
   ]
  },
  {
   "cell_type": "markdown",
   "id": "cdefad3e",
   "metadata": {},
   "source": [
    "## 💡 Pre-requisites\n",
    "> 3가지 task 데이터 생성에 모두 필요한 딕셔너리/함수를 사전 정의합니다."
   ]
  },
  {
   "cell_type": "markdown",
   "id": "4c60a164",
   "metadata": {},
   "source": [
    "- 3가지 task의 학습 데이터는 raw 데이터에 주어진 영어 엔티티 라벨이 아닌 한글 엔티티 라벨을 사용합니다. **영어 엔티티 라벨을 한글 엔티티 라벨로 변환**하는데 사용하는데 필요한 딕셔너리입니다."
   ]
  },
  {
   "cell_type": "code",
   "execution_count": 8,
   "id": "71a93a59",
   "metadata": {},
   "outputs": [],
   "source": [
    "eng_to_kor = {'PS': '사람', 'LC': '위치', 'OG': '기관', 'DT': '날짜', 'TI': '시간', 'QT': '수량'}"
   ]
  },
  {
   "cell_type": "markdown",
   "id": "08970c3a",
   "metadata": {},
   "source": [
    "- NER task, Entity Extraction task의 Output은 '엔티티1은 태그1이고, ..., 엔티티N은 태그N이다.' 형태의 문장입니다. 단어의 종성에 따라 뒤따라오는 조사의 형태가 다르므로 **엔티티/태그 단어의 종성에 따라 적합한 조사를 붙여서 반환**하기 위해 필요한 함수입니다."
   ]
  },
  {
   "cell_type": "code",
   "execution_count": 9,
   "id": "4c156674",
   "metadata": {},
   "outputs": [],
   "source": [
    "NO_JONGSUNG = 'ᴕ'\n",
    "\n",
    "CHOSUNGS = ['ㄱ', 'ㄲ', 'ㄴ', 'ㄷ', 'ㄸ', 'ㄹ', 'ㅁ', 'ㅂ', 'ㅃ', 'ㅅ', 'ㅆ', 'ㅇ', 'ㅈ', 'ㅉ', 'ㅊ', 'ㅋ', 'ㅌ', 'ㅍ', 'ㅎ']\n",
    "JOONGSUNGS = ['ㅏ', 'ㅐ', 'ㅑ', 'ㅒ', 'ㅓ', 'ㅔ', 'ㅕ', 'ㅖ', 'ㅗ', 'ㅘ', 'ㅙ', 'ㅚ', 'ㅛ', 'ㅜ', 'ㅝ', 'ㅞ', 'ㅟ', 'ㅠ', 'ㅡ', 'ㅢ', 'ㅣ']\n",
    "JONGSUNGS = [NO_JONGSUNG,  'ㄱ', 'ㄲ', 'ㄳ', 'ㄴ', 'ㄵ', 'ㄶ', 'ㄷ', 'ㄹ', 'ㄺ', 'ㄻ', 'ㄼ', 'ㄽ', 'ㄾ', 'ㄿ', 'ㅀ', 'ㅁ', 'ㅂ', 'ㅄ', 'ㅅ', 'ㅆ', 'ㅇ', 'ㅈ', 'ㅊ', 'ㅋ', 'ㅌ', 'ㅍ', 'ㅎ']\n",
    "\n",
    "N_CHOSUNGS = 19\n",
    "N_JOONGSUNGS = 21\n",
    "N_JONGSUNGS = 28\n",
    "\n",
    "FIRST_HANGUL = 0xAC00 #'가'\n",
    "LAST_HANGUL = 0xD7A3 #'힣'\n",
    "\n",
    "def get_josa(s, s_type):        \n",
    "    result = []\n",
    "    for c in s:\n",
    "        if ord(c) < FIRST_HANGUL or ord(c) > LAST_HANGUL: # if a character is a hangul\n",
    "            result.append(c)\n",
    "        else:            \n",
    "            code = ord(c) - FIRST_HANGUL\n",
    "            jongsung_index = code % N_JONGSUNGS\n",
    "            code //= N_JONGSUNGS\n",
    "            joongsung_index = code % N_JOONGSUNGS\n",
    "            code //= N_JOONGSUNGS\n",
    "            chosung_index = code\n",
    "\n",
    "            result.append(CHOSUNGS[chosung_index])\n",
    "            result.append(JOONGSUNGS[joongsung_index])\n",
    "            result.append(JONGSUNGS[jongsung_index])\n",
    "    jaso_str = ''.join(result)\n",
    "    if s_type == 'ent':\n",
    "        josa = '는' if jaso_str[-1] == 'ᴕ' else '은'  # 종성 없으면 '는' 있으면 '은'\n",
    "    if s_type == 'tag':\n",
    "        josa = '' if jaso_str[-1] == 'ᴕ' else '이'  # 종성 없으면 '' 있으면 '이' \n",
    "    return josa"
   ]
  },
  {
   "cell_type": "markdown",
   "id": "1b95d137",
   "metadata": {},
   "source": [
    "## [1] Named Entity Recognition 데이터 생성\n",
    "1. ```Input``` : ①단계를 통해 전처리가 완료된 데이터\n",
    "2. ```Output``` : NER Task에 맞게 가공된 학습 데이터\n",
    "    - **NER Input** : Sentence: 문장 Instruction: Input Sentence에서 찾을 수 있는 모든 Entity 및 그들의 Entity type을 출력하세요. 가능한 Entity type은 다음과 같습니다: 사람, 위치, 기관, 날짜, 시간, 수량\n",
    "    - **NER Output** : 엔티티1은 태그1이고, 엔티티2는 태그2이고, ..., 엔티티N은 태그N이다."
   ]
  },
  {
   "cell_type": "code",
   "execution_count": 10,
   "id": "4d8b039a",
   "metadata": {},
   "outputs": [],
   "source": [
    "def prepare_ner_data(df):\n",
    "    inputs, outputs = [], []\n",
    "    entities, tags = df['entities'], df['tags']\n",
    "    instruction = ' Instruction: Input Sentence에서 찾을 수 있는 모든 Entity 및 그들의 Entity type을 출력하세요.'+\\\n",
    "                    ' 가능한 Entity type은 다음과 같습니다: 사람, 위치, 기관, 날짜, 시간, 수량'\n",
    "\n",
    "    for i, text in enumerate(df['preprocessed_text']):\n",
    "        input_sentence = 'Sentence: ' + text + instruction\n",
    "        output_sentence = ''\n",
    "        kor_tags = [eng_to_kor[tag] for tag in tags[i]]\n",
    "        for idx, entity in enumerate(entities[i]):\n",
    "            output_sentence += (entity+get_josa(entity, 'ent')+' ')\n",
    "            if idx == len(entities[i])-1:\n",
    "                output_sentence += (kor_tags[idx]+get_josa(kor_tags[idx], 'tag')+'다.')\n",
    "            else:\n",
    "                output_sentence += (kor_tags[idx]+get_josa(kor_tags[idx], 'tag')+'고, ')\n",
    "        inputs.append(input_sentence)\n",
    "        outputs.append(output_sentence)\n",
    "        \n",
    "    df = pd.DataFrame({\"inputs\": inputs, 'outputs': outputs})\n",
    "    return df"
   ]
  },
  {
   "cell_type": "code",
   "execution_count": 11,
   "id": "84930f2d",
   "metadata": {},
   "outputs": [],
   "source": [
    "ner_data = prepare_ner_data(train_df)"
   ]
  },
  {
   "cell_type": "code",
   "execution_count": 12,
   "id": "46a7881a",
   "metadata": {
    "scrolled": true
   },
   "outputs": [
    {
     "data": {
      "text/html": [
       "<table border=\"1\" class=\"dataframe\">\n",
       "  <thead>\n",
       "    <tr style=\"text-align: right;\">\n",
       "      <th></th>\n",
       "      <th>inputs</th>\n",
       "      <th>outputs</th>\n",
       "    </tr>\n",
       "  </thead>\n",
       "  <tbody>\n",
       "    <tr>\n",
       "      <th>0</th>\n",
       "      <td>Sentence: 아름다운 첫걸음 . 과정없이 자라는 나무는 없어요~ Instruction: Input Sentence에서 찾을 수 있는 모든 Entity 및 그들의 Entity type을 출력하세요. 가능한 Entity type은 다음과 같습니다: 사람, 위치, 기관, 날짜, 시간, 수량</td>\n",
       "      <td>첫걸음은 수량이다.</td>\n",
       "    </tr>\n",
       "    <tr>\n",
       "      <th>1</th>\n",
       "      <td>Sentence: TV상영종료후 1년뒤에 극장판이 나올정도의 초 대작.TV편의 설정오류 수정과 새로운 씬 추가가 주된 볼거리. 마마마는 어른들을 위한 애니이다. Instruction: Input Sentence에서 찾을 수 있는 모든 Entity 및 그들의 Entity type을 출력하세요. 가능한 Entity type은 다음과 같습니다: 사람, 위치, 기관, 날짜, 시간, 수량</td>\n",
       "      <td>1년뒤는 날짜다.</td>\n",
       "    </tr>\n",
       "    <tr>\n",
       "      <th>2</th>\n",
       "      <td>Sentence: 지루할 틈없이 웃음포인트들이 있고, 4년전 영화지만 지금:봐도 재미있네요 Instruction: Input Sentence에서 찾을 수 있는 모든 Entity 및 그들의 Entity type을 출력하세요. 가능한 Entity type은 다음과 같습니다: 사람, 위치, 기관, 날짜, 시간, 수량</td>\n",
       "      <td>4년전은 날짜다.</td>\n",
       "    </tr>\n",
       "    <tr>\n",
       "      <th>3</th>\n",
       "      <td>Sentence: 고3때 개봉날 극장서 봤는데 당시 엄청 감동이였음.같이 본 여자애들 울고 그랬어요. Instruction: Input Sentence에서 찾을 수 있는 모든 Entity 및 그들의 Entity type을 출력하세요. 가능한 Entity type은 다음과 같습니다: 사람, 위치, 기관, 날짜, 시간, 수량</td>\n",
       "      <td>고3은 수량이다.</td>\n",
       "    </tr>\n",
       "    <tr>\n",
       "      <th>4</th>\n",
       "      <td>Sentence: 눈물 펑펑 역시 병만삼촌은 기대를 져버리지 않았슴다! Instruction: Input Sentence에서 찾을 수 있는 모든 Entity 및 그들의 Entity type을 출력하세요. 가능한 Entity type은 다음과 같습니다: 사람, 위치, 기관, 날짜, 시간, 수량</td>\n",
       "      <td>병만은 사람이다.</td>\n",
       "    </tr>\n",
       "  </tbody>\n",
       "</table>"
      ],
      "text/plain": [
       "<IPython.core.display.HTML object>"
      ]
     },
     "metadata": {},
     "output_type": "display_data"
    }
   ],
   "source": [
    "display(HTML(ner_data[:5].to_html()))"
   ]
  },
  {
   "cell_type": "code",
   "execution_count": 13,
   "id": "b3da7b7c",
   "metadata": {},
   "outputs": [
    {
     "data": {
      "text/html": [
       "<table border=\"1\" class=\"dataframe\">\n",
       "  <thead>\n",
       "    <tr style=\"text-align: right;\">\n",
       "      <th></th>\n",
       "      <th>inputs</th>\n",
       "      <th>outputs</th>\n",
       "    </tr>\n",
       "  </thead>\n",
       "  <tbody>\n",
       "    <tr>\n",
       "      <th>20797</th>\n",
       "      <td>Sentence: 현재 페이스북 메신저 영상통화가 가능한 나라는 벨기에, 캐나다, 크로아티아, 덴마크, 프랑스, 그리스, 아일랜드, 라오스, 리투아니아, 멕시코, 나이지리아, 노르웨이, 오만, 폴란드, 포르투갈, 영국, 미국, 우루과이 18개국이다. Instruction: Input Sentence에서 찾을 수 있는 모든 Entity 및 그들의 Entity type을 출력하세요. 가능한 Entity type은 다음과 같습니다: 사람, 위치, 기관, 날짜, 시간, 수량</td>\n",
       "      <td>벨기에는 위치고, 캐나다는 위치고, 크로아티아는 위치고, 덴마크는 위치고, 프랑스는 위치고, 그리스는 위치고, 아일랜드는 위치고, 라오스는 위치고, 리투아니아는 위치고, 멕시코는 위치고, 나이지리아는 위치고, 노르웨이는 위치고, 오만은 위치고, 폴란드는 위치고, 포르투갈은 위치고, 영국은 위치고, 미국은 위치고, 우루과이는 위치고, 18개국은 수량이다.</td>\n",
       "    </tr>\n",
       "    <tr>\n",
       "      <th>20798</th>\n",
       "      <td>Sentence: 피격 항공편 탑승자의 국적은 네덜란드가 189명으로 가장 많고, 이어 말레이시아 29명, 호주 27명, 인도네시아 12명, 영국 9명, 독일과 벨기에가 각각 4명, 필리핀과 베트남이 각각 3명, 캐나다와 뉴질랜드, 미국이 각각 1명으로 파악됐다. Instruction: Input Sentence에서 찾을 수 있는 모든 Entity 및 그들의 Entity type을 출력하세요. 가능한 Entity type은 다음과 같습니다: 사람, 위치, 기관, 날짜, 시간, 수량</td>\n",
       "      <td>네덜란드는 위치고, 189명은 수량이고, 말레이시아는 위치고, 29명은 수량이고, 호주는 위치고, 27명은 수량이고, 인도네시아는 위치고, 12명은 수량이고, 영국은 위치고, 9명은 수량이고, 독일은 위치고, 벨기에는 위치고, 4명은 수량이고, 필리핀은 위치고, 베트남은 위치고, 3명은 수량이고, 캐나다는 위치고, 뉴질랜드는 위치고, 미국은 위치고, 1명은 수량이다.</td>\n",
       "    </tr>\n",
       "    <tr>\n",
       "      <th>20799</th>\n",
       "      <td>Sentence: 이날 오전 6시 현재 서울 영하 2.8도, 파주 영하 8.3도, 인천 영하 0.9도, 수원 영하 4.1도, 대전 영하 4.6도, 전주 영하 1.6도, 광주 영하 3.4도, 대구 영하 1.4도, 부산 영하 0.3도 등을 기록했다. Instruction: Input Sentence에서 찾을 수 있는 모든 Entity 및 그들의 Entity type을 출력하세요. 가능한 Entity type은 다음과 같습니다: 사람, 위치, 기관, 날짜, 시간, 수량</td>\n",
       "      <td>이날은 날짜고, 오전 6시는 시간이고, 서울은 위치고, 영하 2.8도는 수량이고, 파주는 위치고, 영하 8.3도는 수량이고, 인천은 위치고, 영하 0.9도는 수량이고, 수원은 위치고, 영하 4.1도는 수량이고, 대전은 위치고, 영하 4.6도는 수량이고, 전주는 위치고, 영하 1.6도는 수량이고, 광주는 위치고, 영하 3.4도는 수량이고, 대구는 위치고, 영하 1.4도는 수량이고, 부산은 위치고, 영하 0.3은 수량이다.</td>\n",
       "    </tr>\n",
       "    <tr>\n",
       "      <th>20800</th>\n",
       "      <td>Sentence: 기상청에 따르면 12일 아침 서울/수원 영하 8도, 인천 영하 7도, 파주/이천 영하 12도, 동두천 영하 11도, 철원 영하 14도, 춘천/원주 영하 10도, 대관령 영하 15도 등으로 예상된다. Instruction: Input Sentence에서 찾을 수 있는 모든 Entity 및 그들의 Entity type을 출력하세요. 가능한 Entity type은 다음과 같습니다: 사람, 위치, 기관, 날짜, 시간, 수량</td>\n",
       "      <td>기상청은 기관이고, 12일은 날짜고, 아침은 시간이고, 서울은 위치고, 수원은 위치고, 8도는 수량이고, 인천은 위치고, 7도는 수량이고, 파주는 위치고, 이천은 위치고, 12도는 수량이고, 동두천은 위치고, 11도는 수량이고, 철원은 위치고, 14도는 수량이고, 춘천은 위치고, 원주는 위치고, 10도는 수량이고, 대관령은 위치고, 15도는 수량이다.</td>\n",
       "    </tr>\n",
       "    <tr>\n",
       "      <th>20801</th>\n",
       "      <td>Sentence: 낮 최고기온은 서울 9도, 인천 7도, 춘천 9도, 강릉 10도, 청주 12도, 대전 12도, 전주 11도, 광주 11도, 대구 12도, 부산 12도, 제주 16도 등이다. Instruction: Input Sentence에서 찾을 수 있는 모든 Entity 및 그들의 Entity type을 출력하세요. 가능한 Entity type은 다음과 같습니다: 사람, 위치, 기관, 날짜, 시간, 수량</td>\n",
       "      <td>낮은 시간이고, 서울은 위치고, 9도는 수량이고, 인천은 위치고, 7도는 수량이고, 춘천은 위치고, 9도는 수량이고, 강릉은 위치고, 10도는 수량이고, 청주는 위치고, 12도는 수량이고, 대전은 위치고, 12도는 수량이고, 전주는 위치고, 11도는 수량이고, 광주는 위치고, 11도는 수량이고, 대구는 위치고, 12도는 수량이고, 부산은 위치고, 12도는 수량이고, 제주는 위치고, 16도는 수량이다.</td>\n",
       "    </tr>\n",
       "  </tbody>\n",
       "</table>"
      ],
      "text/plain": [
       "<IPython.core.display.HTML object>"
      ]
     },
     "metadata": {},
     "output_type": "display_data"
    }
   ],
   "source": [
    "display(HTML(ner_data[-5:].to_html()))"
   ]
  },
  {
   "cell_type": "markdown",
   "id": "0e69c964",
   "metadata": {},
   "source": [
    "## [2] Entity Typing 데이터 생성\n",
    "> ***Entity Typing***: 문장과 문장에 존재하는 엔티티가 주어진 상태에서 엔티티의 유형을 예측하는 task\n",
    "\n",
    "1. ```Input``` : ①단계를 통해 전처리가 완료된 데이터\n",
    "2. ```Output``` : Entity Typing Task에 맞게 가공된 학습 데이터\n",
    "    - **ET Input** : Sentence: 문장 Instruction: Input Sentence에서 <엔티티1, 엔티티2, ..., 엔티티N>의 Entity type을 출력하세요. 가능한 Entity type은 다음과 같습니다: 사람, 위치, 기관, 날짜, 시간, 수량\n",
    "    - **ET Output** : 엔티티1은 태그1이고, 엔티티2는 태그2이고, ..., 엔티티N은 태그N이다."
   ]
  },
  {
   "cell_type": "code",
   "execution_count": 14,
   "id": "3447647c",
   "metadata": {},
   "outputs": [],
   "source": [
    "def prepare_et_data(df):\n",
    "    inputs, outputs = [], []\n",
    "    entities, tags = df['entities'], df['tags']\n",
    "\n",
    "    for i, text in enumerate(df['preprocessed_text']):\n",
    "        input_entities = ', '.join(entities[i])\n",
    "        input_sentence = 'Sentence: ' + text + ' Instruction: Input Sentence에서 <' + input_entities + \\\n",
    "                            '>의 Entity type을 출력하세요. 가능한 Entity type은 다음과 같습니다: 사람, 위치, 기관, 날짜, 시간, 수량'\n",
    "        output_sentence = ''\n",
    "        kor_tags = [eng_to_kor[tag] for tag in tags[i]]\n",
    "        for idx, entity in enumerate(entities[i]):\n",
    "            output_sentence += (entity+get_josa(entity, 'ent')+' ')\n",
    "            if idx == len(entities[i])-1:\n",
    "                output_sentence += (kor_tags[idx]+get_josa(kor_tags[idx], 'tag')+'다.')\n",
    "            else:\n",
    "                output_sentence += (kor_tags[idx]+get_josa(kor_tags[idx], 'tag')+'고, ')\n",
    "        inputs.append(input_sentence)\n",
    "        outputs.append(output_sentence)\n",
    "        \n",
    "    df = pd.DataFrame({\"inputs\": inputs, 'outputs': outputs})\n",
    "    return df"
   ]
  },
  {
   "cell_type": "code",
   "execution_count": 15,
   "id": "1dd8f09c",
   "metadata": {},
   "outputs": [],
   "source": [
    "et_data = prepare_et_data(train_df)"
   ]
  },
  {
   "cell_type": "code",
   "execution_count": 16,
   "id": "eafe37f4",
   "metadata": {},
   "outputs": [
    {
     "data": {
      "text/html": [
       "<table border=\"1\" class=\"dataframe\">\n",
       "  <thead>\n",
       "    <tr style=\"text-align: right;\">\n",
       "      <th></th>\n",
       "      <th>inputs</th>\n",
       "      <th>outputs</th>\n",
       "    </tr>\n",
       "  </thead>\n",
       "  <tbody>\n",
       "    <tr>\n",
       "      <th>0</th>\n",
       "      <td>Sentence: 아름다운 첫걸음 . 과정없이 자라는 나무는 없어요~ Instruction: Input Sentence에서 &lt;첫걸음&gt;의 Entity type을 출력하세요. 가능한 Entity type은 다음과 같습니다: 사람, 위치, 기관, 날짜, 시간, 수량</td>\n",
       "      <td>첫걸음은 수량이다.</td>\n",
       "    </tr>\n",
       "    <tr>\n",
       "      <th>1</th>\n",
       "      <td>Sentence: TV상영종료후 1년뒤에 극장판이 나올정도의 초 대작.TV편의 설정오류 수정과 새로운 씬 추가가 주된 볼거리. 마마마는 어른들을 위한 애니이다. Instruction: Input Sentence에서 &lt;1년뒤&gt;의 Entity type을 출력하세요. 가능한 Entity type은 다음과 같습니다: 사람, 위치, 기관, 날짜, 시간, 수량</td>\n",
       "      <td>1년뒤는 날짜다.</td>\n",
       "    </tr>\n",
       "    <tr>\n",
       "      <th>2</th>\n",
       "      <td>Sentence: 지루할 틈없이 웃음포인트들이 있고, 4년전 영화지만 지금:봐도 재미있네요 Instruction: Input Sentence에서 &lt;4년전&gt;의 Entity type을 출력하세요. 가능한 Entity type은 다음과 같습니다: 사람, 위치, 기관, 날짜, 시간, 수량</td>\n",
       "      <td>4년전은 날짜다.</td>\n",
       "    </tr>\n",
       "    <tr>\n",
       "      <th>3</th>\n",
       "      <td>Sentence: 고3때 개봉날 극장서 봤는데 당시 엄청 감동이였음.같이 본 여자애들 울고 그랬어요. Instruction: Input Sentence에서 &lt;고3&gt;의 Entity type을 출력하세요. 가능한 Entity type은 다음과 같습니다: 사람, 위치, 기관, 날짜, 시간, 수량</td>\n",
       "      <td>고3은 수량이다.</td>\n",
       "    </tr>\n",
       "    <tr>\n",
       "      <th>4</th>\n",
       "      <td>Sentence: 눈물 펑펑 역시 병만삼촌은 기대를 져버리지 않았슴다! Instruction: Input Sentence에서 &lt;병만&gt;의 Entity type을 출력하세요. 가능한 Entity type은 다음과 같습니다: 사람, 위치, 기관, 날짜, 시간, 수량</td>\n",
       "      <td>병만은 사람이다.</td>\n",
       "    </tr>\n",
       "  </tbody>\n",
       "</table>"
      ],
      "text/plain": [
       "<IPython.core.display.HTML object>"
      ]
     },
     "metadata": {},
     "output_type": "display_data"
    }
   ],
   "source": [
    "display(HTML(et_data[:5].to_html()))"
   ]
  },
  {
   "cell_type": "code",
   "execution_count": 17,
   "id": "1b8fbae1",
   "metadata": {},
   "outputs": [
    {
     "data": {
      "text/html": [
       "<table border=\"1\" class=\"dataframe\">\n",
       "  <thead>\n",
       "    <tr style=\"text-align: right;\">\n",
       "      <th></th>\n",
       "      <th>inputs</th>\n",
       "      <th>outputs</th>\n",
       "    </tr>\n",
       "  </thead>\n",
       "  <tbody>\n",
       "    <tr>\n",
       "      <th>20797</th>\n",
       "      <td>Sentence: 현재 페이스북 메신저 영상통화가 가능한 나라는 벨기에, 캐나다, 크로아티아, 덴마크, 프랑스, 그리스, 아일랜드, 라오스, 리투아니아, 멕시코, 나이지리아, 노르웨이, 오만, 폴란드, 포르투갈, 영국, 미국, 우루과이 18개국이다. Instruction: Input Sentence에서 &lt;벨기에, 캐나다, 크로아티아, 덴마크, 프랑스, 그리스, 아일랜드, 라오스, 리투아니아, 멕시코, 나이지리아, 노르웨이, 오만, 폴란드, 포르투갈, 영국, 미국, 우루과이, 18개국&gt;의 Entity type을 출력하세요. 가능한 Entity type은 다음과 같습니다: 사람, 위치, 기관, 날짜, 시간, 수량</td>\n",
       "      <td>벨기에는 위치고, 캐나다는 위치고, 크로아티아는 위치고, 덴마크는 위치고, 프랑스는 위치고, 그리스는 위치고, 아일랜드는 위치고, 라오스는 위치고, 리투아니아는 위치고, 멕시코는 위치고, 나이지리아는 위치고, 노르웨이는 위치고, 오만은 위치고, 폴란드는 위치고, 포르투갈은 위치고, 영국은 위치고, 미국은 위치고, 우루과이는 위치고, 18개국은 수량이다.</td>\n",
       "    </tr>\n",
       "    <tr>\n",
       "      <th>20798</th>\n",
       "      <td>Sentence: 피격 항공편 탑승자의 국적은 네덜란드가 189명으로 가장 많고, 이어 말레이시아 29명, 호주 27명, 인도네시아 12명, 영국 9명, 독일과 벨기에가 각각 4명, 필리핀과 베트남이 각각 3명, 캐나다와 뉴질랜드, 미국이 각각 1명으로 파악됐다. Instruction: Input Sentence에서 &lt;네덜란드, 189명, 말레이시아, 29명, 호주, 27명, 인도네시아, 12명, 영국, 9명, 독일, 벨기에, 4명, 필리핀, 베트남, 3명, 캐나다, 뉴질랜드, 미국, 1명&gt;의 Entity type을 출력하세요. 가능한 Entity type은 다음과 같습니다: 사람, 위치, 기관, 날짜, 시간, 수량</td>\n",
       "      <td>네덜란드는 위치고, 189명은 수량이고, 말레이시아는 위치고, 29명은 수량이고, 호주는 위치고, 27명은 수량이고, 인도네시아는 위치고, 12명은 수량이고, 영국은 위치고, 9명은 수량이고, 독일은 위치고, 벨기에는 위치고, 4명은 수량이고, 필리핀은 위치고, 베트남은 위치고, 3명은 수량이고, 캐나다는 위치고, 뉴질랜드는 위치고, 미국은 위치고, 1명은 수량이다.</td>\n",
       "    </tr>\n",
       "    <tr>\n",
       "      <th>20799</th>\n",
       "      <td>Sentence: 이날 오전 6시 현재 서울 영하 2.8도, 파주 영하 8.3도, 인천 영하 0.9도, 수원 영하 4.1도, 대전 영하 4.6도, 전주 영하 1.6도, 광주 영하 3.4도, 대구 영하 1.4도, 부산 영하 0.3도 등을 기록했다. Instruction: Input Sentence에서 &lt;이날, 오전 6시, 서울, 영하 2.8도, 파주, 영하 8.3도, 인천, 영하 0.9도, 수원, 영하 4.1도, 대전, 영하 4.6도, 전주, 영하 1.6도, 광주, 영하 3.4도, 대구, 영하 1.4도, 부산, 영하 0.3&gt;의 Entity type을 출력하세요. 가능한 Entity type은 다음과 같습니다: 사람, 위치, 기관, 날짜, 시간, 수량</td>\n",
       "      <td>이날은 날짜고, 오전 6시는 시간이고, 서울은 위치고, 영하 2.8도는 수량이고, 파주는 위치고, 영하 8.3도는 수량이고, 인천은 위치고, 영하 0.9도는 수량이고, 수원은 위치고, 영하 4.1도는 수량이고, 대전은 위치고, 영하 4.6도는 수량이고, 전주는 위치고, 영하 1.6도는 수량이고, 광주는 위치고, 영하 3.4도는 수량이고, 대구는 위치고, 영하 1.4도는 수량이고, 부산은 위치고, 영하 0.3은 수량이다.</td>\n",
       "    </tr>\n",
       "    <tr>\n",
       "      <th>20800</th>\n",
       "      <td>Sentence: 기상청에 따르면 12일 아침 서울/수원 영하 8도, 인천 영하 7도, 파주/이천 영하 12도, 동두천 영하 11도, 철원 영하 14도, 춘천/원주 영하 10도, 대관령 영하 15도 등으로 예상된다. Instruction: Input Sentence에서 &lt;기상청, 12일, 아침, 서울, 수원, 8도, 인천, 7도, 파주, 이천, 12도, 동두천, 11도, 철원, 14도, 춘천, 원주, 10도, 대관령, 15도&gt;의 Entity type을 출력하세요. 가능한 Entity type은 다음과 같습니다: 사람, 위치, 기관, 날짜, 시간, 수량</td>\n",
       "      <td>기상청은 기관이고, 12일은 날짜고, 아침은 시간이고, 서울은 위치고, 수원은 위치고, 8도는 수량이고, 인천은 위치고, 7도는 수량이고, 파주는 위치고, 이천은 위치고, 12도는 수량이고, 동두천은 위치고, 11도는 수량이고, 철원은 위치고, 14도는 수량이고, 춘천은 위치고, 원주는 위치고, 10도는 수량이고, 대관령은 위치고, 15도는 수량이다.</td>\n",
       "    </tr>\n",
       "    <tr>\n",
       "      <th>20801</th>\n",
       "      <td>Sentence: 낮 최고기온은 서울 9도, 인천 7도, 춘천 9도, 강릉 10도, 청주 12도, 대전 12도, 전주 11도, 광주 11도, 대구 12도, 부산 12도, 제주 16도 등이다. Instruction: Input Sentence에서 &lt;낮, 서울, 9도, 인천, 7도, 춘천, 9도, 강릉, 10도, 청주, 12도, 대전, 12도, 전주, 11도, 광주, 11도, 대구, 12도, 부산, 12도, 제주, 16도&gt;의 Entity type을 출력하세요. 가능한 Entity type은 다음과 같습니다: 사람, 위치, 기관, 날짜, 시간, 수량</td>\n",
       "      <td>낮은 시간이고, 서울은 위치고, 9도는 수량이고, 인천은 위치고, 7도는 수량이고, 춘천은 위치고, 9도는 수량이고, 강릉은 위치고, 10도는 수량이고, 청주는 위치고, 12도는 수량이고, 대전은 위치고, 12도는 수량이고, 전주는 위치고, 11도는 수량이고, 광주는 위치고, 11도는 수량이고, 대구는 위치고, 12도는 수량이고, 부산은 위치고, 12도는 수량이고, 제주는 위치고, 16도는 수량이다.</td>\n",
       "    </tr>\n",
       "  </tbody>\n",
       "</table>"
      ],
      "text/plain": [
       "<IPython.core.display.HTML object>"
      ]
     },
     "metadata": {},
     "output_type": "display_data"
    }
   ],
   "source": [
    "display(HTML(et_data[-5:].to_html()))"
   ]
  },
  {
   "cell_type": "markdown",
   "id": "ac09fdf0",
   "metadata": {},
   "source": [
    "## [3] Entity Extraction 데이터 생성\n",
    "> ***Entity Extraction***: 문장이 주어졌을 때 문장에 존재하는 엔티티를 찾아내는 task\n",
    "\n",
    "1. ```Input``` : ①단계를 통해 전처리가 완료된 데이터\n",
    "2. ```Output``` : Entity Extraction Task에 맞게 가공된 학습 데이터\n",
    "    - **EE Input** : Sentence: <문장> Instruction: Input Sentence에서 Entity에 해당하는 단어를 모두 출력하세요. \n",
    "    - **EE Output** : 엔티티1, 엔티티2, ..., 엔티티N."
   ]
  },
  {
   "cell_type": "code",
   "execution_count": 18,
   "id": "9acf34e9",
   "metadata": {},
   "outputs": [],
   "source": [
    "def prepare_ee_data(df):\n",
    "    inputs, outputs = [], []\n",
    "    entities, tags = df['entities'], df['tags']\n",
    "    instruction = ' Instruction: Input Sentence에서 Entity에 해당하는 단어를 모두 출력하세요.'\n",
    "\n",
    "    for i, text in enumerate(df['preprocessed_text']):\n",
    "        input_sentence = 'Sentence: ' + text + instruction\n",
    "        output_sentence = ', '.join(entities[i]) + '.'\n",
    "        inputs.append(input_sentence)\n",
    "        outputs.append(output_sentence)\n",
    "        \n",
    "    df = pd.DataFrame({\"inputs\": inputs, 'outputs': outputs})\n",
    "    return df"
   ]
  },
  {
   "cell_type": "code",
   "execution_count": 19,
   "id": "78d52c09",
   "metadata": {},
   "outputs": [],
   "source": [
    "ee_data = prepare_ee_data(train_df)"
   ]
  },
  {
   "cell_type": "code",
   "execution_count": 20,
   "id": "dac31f5c",
   "metadata": {},
   "outputs": [
    {
     "data": {
      "text/html": [
       "<table border=\"1\" class=\"dataframe\">\n",
       "  <thead>\n",
       "    <tr style=\"text-align: right;\">\n",
       "      <th></th>\n",
       "      <th>inputs</th>\n",
       "      <th>outputs</th>\n",
       "    </tr>\n",
       "  </thead>\n",
       "  <tbody>\n",
       "    <tr>\n",
       "      <th>0</th>\n",
       "      <td>Sentence: 아름다운 첫걸음 . 과정없이 자라는 나무는 없어요~ Instruction: Input Sentence에서 Entity에 해당하는 단어를 모두 출력하세요.</td>\n",
       "      <td>첫걸음.</td>\n",
       "    </tr>\n",
       "    <tr>\n",
       "      <th>1</th>\n",
       "      <td>Sentence: TV상영종료후 1년뒤에 극장판이 나올정도의 초 대작.TV편의 설정오류 수정과 새로운 씬 추가가 주된 볼거리. 마마마는 어른들을 위한 애니이다. Instruction: Input Sentence에서 Entity에 해당하는 단어를 모두 출력하세요.</td>\n",
       "      <td>1년뒤.</td>\n",
       "    </tr>\n",
       "    <tr>\n",
       "      <th>2</th>\n",
       "      <td>Sentence: 지루할 틈없이 웃음포인트들이 있고, 4년전 영화지만 지금:봐도 재미있네요 Instruction: Input Sentence에서 Entity에 해당하는 단어를 모두 출력하세요.</td>\n",
       "      <td>4년전.</td>\n",
       "    </tr>\n",
       "    <tr>\n",
       "      <th>3</th>\n",
       "      <td>Sentence: 고3때 개봉날 극장서 봤는데 당시 엄청 감동이였음.같이 본 여자애들 울고 그랬어요. Instruction: Input Sentence에서 Entity에 해당하는 단어를 모두 출력하세요.</td>\n",
       "      <td>고3.</td>\n",
       "    </tr>\n",
       "    <tr>\n",
       "      <th>4</th>\n",
       "      <td>Sentence: 눈물 펑펑 역시 병만삼촌은 기대를 져버리지 않았슴다! Instruction: Input Sentence에서 Entity에 해당하는 단어를 모두 출력하세요.</td>\n",
       "      <td>병만.</td>\n",
       "    </tr>\n",
       "  </tbody>\n",
       "</table>"
      ],
      "text/plain": [
       "<IPython.core.display.HTML object>"
      ]
     },
     "metadata": {},
     "output_type": "display_data"
    }
   ],
   "source": [
    "display(HTML(ee_data[:5].to_html()))"
   ]
  },
  {
   "cell_type": "code",
   "execution_count": 21,
   "id": "379ff78b",
   "metadata": {},
   "outputs": [
    {
     "data": {
      "text/html": [
       "<table border=\"1\" class=\"dataframe\">\n",
       "  <thead>\n",
       "    <tr style=\"text-align: right;\">\n",
       "      <th></th>\n",
       "      <th>inputs</th>\n",
       "      <th>outputs</th>\n",
       "    </tr>\n",
       "  </thead>\n",
       "  <tbody>\n",
       "    <tr>\n",
       "      <th>20797</th>\n",
       "      <td>Sentence: 현재 페이스북 메신저 영상통화가 가능한 나라는 벨기에, 캐나다, 크로아티아, 덴마크, 프랑스, 그리스, 아일랜드, 라오스, 리투아니아, 멕시코, 나이지리아, 노르웨이, 오만, 폴란드, 포르투갈, 영국, 미국, 우루과이 18개국이다. Instruction: Input Sentence에서 Entity에 해당하는 단어를 모두 출력하세요.</td>\n",
       "      <td>벨기에, 캐나다, 크로아티아, 덴마크, 프랑스, 그리스, 아일랜드, 라오스, 리투아니아, 멕시코, 나이지리아, 노르웨이, 오만, 폴란드, 포르투갈, 영국, 미국, 우루과이, 18개국.</td>\n",
       "    </tr>\n",
       "    <tr>\n",
       "      <th>20798</th>\n",
       "      <td>Sentence: 피격 항공편 탑승자의 국적은 네덜란드가 189명으로 가장 많고, 이어 말레이시아 29명, 호주 27명, 인도네시아 12명, 영국 9명, 독일과 벨기에가 각각 4명, 필리핀과 베트남이 각각 3명, 캐나다와 뉴질랜드, 미국이 각각 1명으로 파악됐다. Instruction: Input Sentence에서 Entity에 해당하는 단어를 모두 출력하세요.</td>\n",
       "      <td>네덜란드, 189명, 말레이시아, 29명, 호주, 27명, 인도네시아, 12명, 영국, 9명, 독일, 벨기에, 4명, 필리핀, 베트남, 3명, 캐나다, 뉴질랜드, 미국, 1명.</td>\n",
       "    </tr>\n",
       "    <tr>\n",
       "      <th>20799</th>\n",
       "      <td>Sentence: 이날 오전 6시 현재 서울 영하 2.8도, 파주 영하 8.3도, 인천 영하 0.9도, 수원 영하 4.1도, 대전 영하 4.6도, 전주 영하 1.6도, 광주 영하 3.4도, 대구 영하 1.4도, 부산 영하 0.3도 등을 기록했다. Instruction: Input Sentence에서 Entity에 해당하는 단어를 모두 출력하세요.</td>\n",
       "      <td>이날, 오전 6시, 서울, 영하 2.8도, 파주, 영하 8.3도, 인천, 영하 0.9도, 수원, 영하 4.1도, 대전, 영하 4.6도, 전주, 영하 1.6도, 광주, 영하 3.4도, 대구, 영하 1.4도, 부산, 영하 0.3.</td>\n",
       "    </tr>\n",
       "    <tr>\n",
       "      <th>20800</th>\n",
       "      <td>Sentence: 기상청에 따르면 12일 아침 서울/수원 영하 8도, 인천 영하 7도, 파주/이천 영하 12도, 동두천 영하 11도, 철원 영하 14도, 춘천/원주 영하 10도, 대관령 영하 15도 등으로 예상된다. Instruction: Input Sentence에서 Entity에 해당하는 단어를 모두 출력하세요.</td>\n",
       "      <td>기상청, 12일, 아침, 서울, 수원, 8도, 인천, 7도, 파주, 이천, 12도, 동두천, 11도, 철원, 14도, 춘천, 원주, 10도, 대관령, 15도.</td>\n",
       "    </tr>\n",
       "    <tr>\n",
       "      <th>20801</th>\n",
       "      <td>Sentence: 낮 최고기온은 서울 9도, 인천 7도, 춘천 9도, 강릉 10도, 청주 12도, 대전 12도, 전주 11도, 광주 11도, 대구 12도, 부산 12도, 제주 16도 등이다. Instruction: Input Sentence에서 Entity에 해당하는 단어를 모두 출력하세요.</td>\n",
       "      <td>낮, 서울, 9도, 인천, 7도, 춘천, 9도, 강릉, 10도, 청주, 12도, 대전, 12도, 전주, 11도, 광주, 11도, 대구, 12도, 부산, 12도, 제주, 16도.</td>\n",
       "    </tr>\n",
       "  </tbody>\n",
       "</table>"
      ],
      "text/plain": [
       "<IPython.core.display.HTML object>"
      ]
     },
     "metadata": {},
     "output_type": "display_data"
    }
   ],
   "source": [
    "display(HTML(ee_data[-5:].to_html()))"
   ]
  },
  {
   "cell_type": "code",
   "execution_count": null,
   "id": "b5238ab5",
   "metadata": {},
   "outputs": [],
   "source": []
  }
 ],
 "metadata": {
  "kernelspec": {
   "display_name": "Python 3 (ipykernel)",
   "language": "python",
   "name": "python3"
  },
  "language_info": {
   "codemirror_mode": {
    "name": "ipython",
    "version": 3
   },
   "file_extension": ".py",
   "mimetype": "text/x-python",
   "name": "python",
   "nbconvert_exporter": "python",
   "pygments_lexer": "ipython3",
   "version": "3.8.10"
  }
 },
 "nbformat": 4,
 "nbformat_minor": 5
}
